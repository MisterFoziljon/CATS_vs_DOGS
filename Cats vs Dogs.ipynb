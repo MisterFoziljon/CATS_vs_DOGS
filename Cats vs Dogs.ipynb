{
 "cells": [
  {
   "cell_type": "markdown",
   "id": "25c026d3",
   "metadata": {},
   "source": [
    "### Cats vs Dogs dataseti"
   ]
  },
  {
   "cell_type": "code",
   "execution_count": null,
   "id": "77a6a438",
   "metadata": {},
   "outputs": [],
   "source": [
    "import tensorflow_datasets as tfds"
   ]
  },
  {
   "cell_type": "code",
   "execution_count": null,
   "id": "77cf628e",
   "metadata": {},
   "outputs": [],
   "source": [
    "data_name = 'cats_vs_dogs'"
   ]
  },
  {
   "cell_type": "code",
   "execution_count": null,
   "id": "028a523f",
   "metadata": {},
   "outputs": [],
   "source": [
    "dataset, info = tfds.load(\n",
    "    data_name,\n",
    "    split=['train'],\n",
    "    data_dir=\"Cats_and_Dogs\\\\\",\n",
    "    shuffle_files=True,\n",
    "    as_supervised=True,\n",
    "    with_info=True,\n",
    ")"
   ]
  },
  {
   "cell_type": "code",
   "execution_count": null,
   "id": "02ed4800",
   "metadata": {},
   "outputs": [],
   "source": [
    "info"
   ]
  },
  {
   "cell_type": "code",
   "execution_count": null,
   "id": "9acc8fba",
   "metadata": {},
   "outputs": [],
   "source": [
    "fig = tfds.show_examples(dataset[0], info)"
   ]
  },
  {
   "cell_type": "code",
   "execution_count": null,
   "id": "d74cdf5f",
   "metadata": {},
   "outputs": [],
   "source": [
    "dataset = dataset[0].take(13000)\n",
    "images,labels = [],[]\n",
    "for image, label in tfds.as_numpy(dataset):\n",
    "    images.append(image)\n",
    "    labels.append(label)"
   ]
  },
  {
   "cell_type": "code",
   "execution_count": null,
   "id": "2c24df47",
   "metadata": {},
   "outputs": [],
   "source": [
    "X_train = images[:10000]\n",
    "X_test = images[10000:]\n",
    "\n",
    "Y_train = labels[:10000]\n",
    "Y_test = labels[10000:]"
   ]
  },
  {
   "cell_type": "code",
   "execution_count": null,
   "id": "6cf18bc6",
   "metadata": {},
   "outputs": [],
   "source": [
    "print(f\"Train data tarkibidagi 0-class elementlari soni:{Y_train.count(0)}\")\n",
    "print(f\"Train data tarkibidagi 1-class elementlari soni:{Y_train.count(1)}\")\n",
    "print(f\"Test data tarkibidagi 0-class elementlari soni:{Y_test.count(0)}\")\n",
    "print(f\"Test data tarkibidagi 1-class elementlari soni:{Y_test.count(1)}\")"
   ]
  },
  {
   "cell_type": "code",
   "execution_count": null,
   "id": "7e1818cf",
   "metadata": {},
   "outputs": [],
   "source": [
    "import numpy as np\n",
    "import cv2\n",
    "import os"
   ]
  },
  {
   "cell_type": "code",
   "execution_count": null,
   "id": "3052ee75",
   "metadata": {},
   "outputs": [],
   "source": [
    "def resize(data):\n",
    "    for i in range(len(data)):\n",
    "        data[i] = cv2.cvtColor(data[i],cv2.COLOR_BGR2RGB)\n",
    "        data[i] = np.array(cv2.resize(data[i],(256,256),interpolation = cv2.INTER_AREA))\n",
    "    return data\n",
    "\n",
    "X_train = np.array(resize(X_train)).astype('float32')/255.0\n",
    "X_test = np.array(resize(X_test)).astype('float32')/255.0\n",
    "\n",
    "Y_train = np.array(Y_train).astype('uint8')\n",
    "Y_test = np.array(Y_test).astype('uint8')\n",
    "\n",
    "print(f\"X_train shape:{X_train.shape}\")\n",
    "print(f\"X_test shape:{X_test.shape}\")\n",
    "print(f\"Y_train shape:{Y_train.shape}\")\n",
    "print(f\"Y_test shape:{Y_test.shape}\")"
   ]
  },
  {
   "cell_type": "code",
   "execution_count": null,
   "id": "225f6e4c",
   "metadata": {},
   "outputs": [],
   "source": [
    "from tensorflow.keras import Model\n",
    "import tensorflow as tf"
   ]
  },
  {
   "cell_type": "code",
   "execution_count": null,
   "id": "6c5baeba",
   "metadata": {},
   "outputs": [],
   "source": [
    "train_ds = tf.data.Dataset.from_tensor_slices((X_train, Y_train)).batch(32)\n",
    "test_ds = tf.data.Dataset.from_tensor_slices((X_test, Y_test)).batch(32)"
   ]
  },
  {
   "cell_type": "code",
   "execution_count": null,
   "id": "7b834f00",
   "metadata": {},
   "outputs": [],
   "source": [
    "class MyModel(Model):\n",
    "    def __init__(self):\n",
    "        super(MyModel, self).__init__()\n",
    "        # Convolution Layer\n",
    "        self.block1_conv = tf.keras.layers.Conv2D(16, 3, activation=tf.keras.activations.relu, padding=\"same\")\n",
    "        self.block2_conv = tf.keras.layers.Conv2D(32, 3, activation=tf.keras.activations.relu, padding=\"same\")\n",
    "        self.block3_conv = tf.keras.layers.Conv2D(64, 3, activation=tf.keras.activations.relu, padding=\"same\")\n",
    "        self.block4_conv = tf.keras.layers.Conv2D(128, 3, activation=tf.keras.activations.relu, padding=\"same\")\n",
    "        \n",
    "        self.pool = tf.keras.layers.MaxPooling2D((2,2))\n",
    "        \n",
    "        # Classification Layer\n",
    "        self.flatten = tf.keras.layers.Flatten()\n",
    "        \n",
    "        self.hidden1 = tf.keras.layers.Dense(512, activation=tf.keras.activations.relu)\n",
    "        self.hidden2 = tf.keras.layers.Dense(256)\n",
    "        self.hidden3 = tf.keras.layers.Dense(10)\n",
    "        \n",
    "        self.output_layer = tf.keras.layers.Dense(2, activation=tf.keras.activations.softmax)\n",
    "        \n",
    "    def call(self, x):\n",
    "        # Block 1\n",
    "        \n",
    "        conv1 = self.block1_conv(x) # 256x256x16\n",
    "        pooling = self.pool(conv1) # 128x128x16\n",
    "        \n",
    "        # Block 2\n",
    "        conv2 = self.block2_conv(pooling) # 128x128x32\n",
    "        pooling = self.pool(conv2) # 64x64x32\n",
    "        \n",
    "        # Block 3\n",
    "        conv3 = self.block3_conv(pooling) # 64x64x64\n",
    "        pooling = self.pool(conv3) # 32x32x64\n",
    "        \n",
    "        # Block 3\n",
    "        conv4 = self.block4_conv(pooling) # 32x32x128\n",
    "        pooling = self.pool(conv4) # 16x16x128\n",
    "        \n",
    "        flatten_layer = self.flatten(pooling)\n",
    "        \n",
    "        dense1 = self.hidden1(flatten_layer)\n",
    "        dense2 = self.hidden2(dense1)\n",
    "        dense3 = self.hidden3(dense2)\n",
    "        \n",
    "        return self.output_layer(dense3)\n",
    "\n",
    "model = MyModel()"
   ]
  },
  {
   "cell_type": "code",
   "execution_count": null,
   "id": "ec779a7b",
   "metadata": {},
   "outputs": [],
   "source": [
    "loss_object = tf.keras.losses.SparseCategoricalCrossentropy(from_logits=True)\n",
    "\n",
    "optimizer = tf.keras.optimizers.Adam()\n",
    "\n",
    "checkpoint_dir = './training_checkpoints'\n",
    "checkpoint_prefix = os.path.join(checkpoint_dir, \"ckpt\")\n",
    "checkpoint = tf.train.Checkpoint(optimizer=optimizer, model=model)\n",
    "\n",
    "latest_checkpoint = tf.train.latest_checkpoint(checkpoint_dir)\n",
    "\n",
    "if latest_checkpoint:\n",
    "    checkpoint.restore(latest_checkpoint)\n",
    "    print(f\"Restored checkpoint from {latest_checkpoint}\")\n",
    "\n",
    "else:\n",
    "    print(\"Checkpoint not found. Training from scratch.\")"
   ]
  },
  {
   "cell_type": "code",
   "execution_count": null,
   "id": "ebab57be",
   "metadata": {},
   "outputs": [],
   "source": [
    "train_loss = tf.keras.metrics.Mean(name='train_loss')\n",
    "train_accuracy = tf.keras.metrics.SparseCategoricalAccuracy(name='train_accuracy')\n",
    "\n",
    "test_loss = tf.keras.metrics.Mean(name='test_loss')\n",
    "test_accuracy = tf.keras.metrics.SparseCategoricalAccuracy(name='test_accuracy')"
   ]
  },
  {
   "cell_type": "code",
   "execution_count": null,
   "id": "ccc158aa",
   "metadata": {},
   "outputs": [],
   "source": [
    "@tf.function\n",
    "def train_step(images, labels):\n",
    "    with tf.GradientTape() as tape:\n",
    "\n",
    "        predictions = model(images, training=True)\n",
    "        loss = loss_object(labels, predictions)\n",
    "        \n",
    "    gradients = tape.gradient(loss, model.trainable_variables)\n",
    "    optimizer.apply_gradients(zip(gradients, model.trainable_variables))\n",
    "\n",
    "    train_loss(loss)\n",
    "    train_accuracy(labels, predictions)\n",
    "    \n",
    "    checkpoint.write(file_prefix=checkpoint_dir+\"/ckpt\")"
   ]
  },
  {
   "cell_type": "code",
   "execution_count": null,
   "id": "abfa6c20",
   "metadata": {},
   "outputs": [],
   "source": [
    "@tf.function\n",
    "def test_step(images, labels):\n",
    "    predictions = model(images, training=False)\n",
    "    t_loss = loss_object(labels, predictions)\n",
    "\n",
    "    test_loss(t_loss)\n",
    "    test_accuracy(labels, predictions)"
   ]
  },
  {
   "cell_type": "code",
   "execution_count": null,
   "id": "d9856f48",
   "metadata": {},
   "outputs": [],
   "source": [
    "EPOCHS = 5\n",
    "\n",
    "for epoch in range(EPOCHS):\n",
    "  # Reset the metrics at the start of the next epoch\n",
    "    train_loss.reset_states()\n",
    "    train_accuracy.reset_states()\n",
    "    test_loss.reset_states()\n",
    "    test_accuracy.reset_states()\n",
    "\n",
    "    for images, labels in train_ds:\n",
    "        train_step(images, labels)\n",
    "\n",
    "    for test_images, test_labels in test_ds:\n",
    "        test_step(test_images, test_labels)\n",
    "\n",
    "    print(\n",
    "    f'** {epoch + 1}-epoch:\\n '\n",
    "    f'Loss: {train_loss.result()}, '\n",
    "    f'Accuracy: {train_accuracy.result() * 100}\\n'\n",
    "    f'Test Loss: {test_loss.result()}, '\n",
    "    f'Test Accuracy: {test_accuracy.result() * 100}')"
   ]
  },
  {
   "cell_type": "code",
   "execution_count": null,
   "id": "0870ceb1",
   "metadata": {},
   "outputs": [],
   "source": [
    "model.summary()"
   ]
  },
  {
   "cell_type": "code",
   "execution_count": null,
   "id": "d8c8dd99",
   "metadata": {},
   "outputs": [],
   "source": [
    "model.save('Model')"
   ]
  },
  {
   "cell_type": "markdown",
   "id": "93494083",
   "metadata": {},
   "source": [
    "### Modelni sinovdan o'tkazamiz "
   ]
  },
  {
   "cell_type": "code",
   "execution_count": null,
   "id": "3e341bd5",
   "metadata": {},
   "outputs": [],
   "source": [
    "from tensorflow.keras.models import load_model\n",
    "model = load_model('Model') "
   ]
  },
  {
   "cell_type": "code",
   "execution_count": null,
   "id": "d8e0eed5",
   "metadata": {},
   "outputs": [],
   "source": [
    "import numpy as np\n",
    "import cv2\n",
    "import matplotlib.pyplot as plt"
   ]
  },
  {
   "cell_type": "markdown",
   "id": "0ad20170",
   "metadata": {},
   "source": [
    "#### Dog sinfi uchun misol"
   ]
  },
  {
   "cell_type": "code",
   "execution_count": null,
   "id": "ab658f47",
   "metadata": {},
   "outputs": [],
   "source": [
    "image_dog = cv2.imread(\"Cats_and_Dogs\\examples\\cats_vs_dogs (102).jpg\")\n",
    "plt.imshow(image_dog)"
   ]
  },
  {
   "cell_type": "code",
   "execution_count": null,
   "id": "3b71d525",
   "metadata": {},
   "outputs": [],
   "source": [
    "image_dog = np.array(cv2.resize(image_dog,(256,256),interpolation = cv2.INTER_AREA))\n",
    "image_dog = np.array(image_dog).astype('float32')/255.0"
   ]
  },
  {
   "cell_type": "code",
   "execution_count": null,
   "id": "32a4ca1d",
   "metadata": {},
   "outputs": [],
   "source": [
    "image_dog.shape"
   ]
  },
  {
   "cell_type": "code",
   "execution_count": null,
   "id": "e503a445",
   "metadata": {},
   "outputs": [],
   "source": [
    "image = image_dog.reshape(1,256,256,3)"
   ]
  },
  {
   "cell_type": "code",
   "execution_count": null,
   "id": "7aad1c7e",
   "metadata": {},
   "outputs": [],
   "source": [
    "one_hot_encoding_label = model.predict(image)"
   ]
  },
  {
   "cell_type": "code",
   "execution_count": null,
   "id": "83217ce5",
   "metadata": {},
   "outputs": [],
   "source": [
    "one_hot_encoding_label"
   ]
  },
  {
   "cell_type": "code",
   "execution_count": null,
   "id": "fc5dcfe4",
   "metadata": {},
   "outputs": [],
   "source": [
    "if np.argmax(one_hot_encoding_label)==1:\n",
    "    print(\"Dog\")\n",
    "    \n",
    "else:\n",
    "    print(\"Cat\")"
   ]
  },
  {
   "cell_type": "markdown",
   "id": "ad034a97",
   "metadata": {},
   "source": [
    "#### Cat sinfi uchun misol"
   ]
  },
  {
   "cell_type": "code",
   "execution_count": null,
   "id": "7793c9e6",
   "metadata": {},
   "outputs": [],
   "source": [
    "image_cat = cv2.imread(\"Cats_and_Dogs\\examples\\cats_vs_dogs (97).jpg\")\n",
    "plt.imshow(image_cat)"
   ]
  },
  {
   "cell_type": "code",
   "execution_count": null,
   "id": "e5938962",
   "metadata": {},
   "outputs": [],
   "source": [
    "image_cat = np.array(cv2.resize(image_cat,(256,256),interpolation = cv2.INTER_AREA))\n",
    "image_cat = np.array(image_cat).astype('float32')/255.0"
   ]
  },
  {
   "cell_type": "code",
   "execution_count": null,
   "id": "a27e38ca",
   "metadata": {},
   "outputs": [],
   "source": [
    "image_cat.shape"
   ]
  },
  {
   "cell_type": "code",
   "execution_count": null,
   "id": "3677e548",
   "metadata": {},
   "outputs": [],
   "source": [
    "image = image_cat.reshape(1,256,256,3)"
   ]
  },
  {
   "cell_type": "code",
   "execution_count": null,
   "id": "aa87ac5e",
   "metadata": {},
   "outputs": [],
   "source": [
    "one_hot_encoding_label = model.predict(image)"
   ]
  },
  {
   "cell_type": "code",
   "execution_count": null,
   "id": "408bd7a8",
   "metadata": {},
   "outputs": [],
   "source": [
    "one_hot_encoding_label"
   ]
  },
  {
   "cell_type": "code",
   "execution_count": null,
   "id": "a998acaf",
   "metadata": {},
   "outputs": [],
   "source": [
    "if np.argmax(one_hot_encoding_label)==1:\n",
    "    print(\"Dog\")\n",
    "    \n",
    "else:\n",
    "    print(\"Cat\")"
   ]
  }
 ],
 "metadata": {
  "kernelspec": {
   "display_name": "Python 3 (ipykernel)",
   "language": "python",
   "name": "python3"
  },
  "language_info": {
   "codemirror_mode": {
    "name": "ipython",
    "version": 3
   },
   "file_extension": ".py",
   "mimetype": "text/x-python",
   "name": "python",
   "nbconvert_exporter": "python",
   "pygments_lexer": "ipython3",
   "version": "3.9.12"
  }
 },
 "nbformat": 4,
 "nbformat_minor": 5
}
